{
 "cells": [
  {
   "cell_type": "markdown",
   "metadata": {},
   "source": [
    "## Observations and Insights"
   ]
  },
  {
   "cell_type": "markdown",
   "metadata": {},
   "source": [
    "In this study we are looking at various drug regimens for cancer treatment.  The following four have shown the most promising in terms of tumor size reduction: Capomulin, Ramicane, Infubinol, and Ceftamin.\n",
    "1. Ramicane and Capomulin had 1/3 of the deaths compared to the placebo.  These where the only outliers of the drug Regimens.\n",
    "2. Ramicane and Capomulin where at the lower bound of the number of metastatic sites compared to all drug regimens.  \n",
    "3. Capomulin was the drug of interest.  Following this study I would recommend more emphasis on Ramicane.\n",
    "4. "
   ]
  },
  {
   "cell_type": "markdown",
   "metadata": {},
   "source": [
    "## Dependencies"
   ]
  },
  {
   "cell_type": "code",
   "execution_count": 1,
   "metadata": {
    "scrolled": true
   },
   "outputs": [
    {
     "data": {
      "text/html": [
       "<div>\n",
       "<style scoped>\n",
       "    .dataframe tbody tr th:only-of-type {\n",
       "        vertical-align: middle;\n",
       "    }\n",
       "\n",
       "    .dataframe tbody tr th {\n",
       "        vertical-align: top;\n",
       "    }\n",
       "\n",
       "    .dataframe thead th {\n",
       "        text-align: right;\n",
       "    }\n",
       "</style>\n",
       "<table border=\"1\" class=\"dataframe\">\n",
       "  <thead>\n",
       "    <tr style=\"text-align: right;\">\n",
       "      <th></th>\n",
       "      <th>Mouse ID</th>\n",
       "      <th>Drug Regimen</th>\n",
       "      <th>Sex</th>\n",
       "      <th>Age_months</th>\n",
       "      <th>Weight (g)</th>\n",
       "      <th>Timepoint</th>\n",
       "      <th>Tumor Volume (mm3)</th>\n",
       "      <th>Metastatic Sites</th>\n",
       "    </tr>\n",
       "  </thead>\n",
       "  <tbody>\n",
       "    <tr>\n",
       "      <th>0</th>\n",
       "      <td>k403</td>\n",
       "      <td>Ramicane</td>\n",
       "      <td>Male</td>\n",
       "      <td>21</td>\n",
       "      <td>16</td>\n",
       "      <td>0</td>\n",
       "      <td>45.000000</td>\n",
       "      <td>0</td>\n",
       "    </tr>\n",
       "    <tr>\n",
       "      <th>1</th>\n",
       "      <td>k403</td>\n",
       "      <td>Ramicane</td>\n",
       "      <td>Male</td>\n",
       "      <td>21</td>\n",
       "      <td>16</td>\n",
       "      <td>5</td>\n",
       "      <td>38.825898</td>\n",
       "      <td>0</td>\n",
       "    </tr>\n",
       "    <tr>\n",
       "      <th>2</th>\n",
       "      <td>k403</td>\n",
       "      <td>Ramicane</td>\n",
       "      <td>Male</td>\n",
       "      <td>21</td>\n",
       "      <td>16</td>\n",
       "      <td>10</td>\n",
       "      <td>35.014271</td>\n",
       "      <td>1</td>\n",
       "    </tr>\n",
       "    <tr>\n",
       "      <th>3</th>\n",
       "      <td>k403</td>\n",
       "      <td>Ramicane</td>\n",
       "      <td>Male</td>\n",
       "      <td>21</td>\n",
       "      <td>16</td>\n",
       "      <td>15</td>\n",
       "      <td>34.223992</td>\n",
       "      <td>1</td>\n",
       "    </tr>\n",
       "    <tr>\n",
       "      <th>4</th>\n",
       "      <td>k403</td>\n",
       "      <td>Ramicane</td>\n",
       "      <td>Male</td>\n",
       "      <td>21</td>\n",
       "      <td>16</td>\n",
       "      <td>20</td>\n",
       "      <td>32.997729</td>\n",
       "      <td>1</td>\n",
       "    </tr>\n",
       "  </tbody>\n",
       "</table>\n",
       "</div>"
      ],
      "text/plain": [
       "  Mouse ID Drug Regimen   Sex  Age_months  Weight (g)  Timepoint  \\\n",
       "0     k403     Ramicane  Male          21          16          0   \n",
       "1     k403     Ramicane  Male          21          16          5   \n",
       "2     k403     Ramicane  Male          21          16         10   \n",
       "3     k403     Ramicane  Male          21          16         15   \n",
       "4     k403     Ramicane  Male          21          16         20   \n",
       "\n",
       "   Tumor Volume (mm3)  Metastatic Sites  \n",
       "0           45.000000                 0  \n",
       "1           38.825898                 0  \n",
       "2           35.014271                 1  \n",
       "3           34.223992                 1  \n",
       "4           32.997729                 1  "
      ]
     },
     "execution_count": 1,
     "metadata": {},
     "output_type": "execute_result"
    }
   ],
   "source": [
    "# Dependencies and Setup\n",
    "import matplotlib.pyplot as plt\n",
    "import pandas as pd\n",
    "import scipy.stats as st\n",
    "import numpy as np\n",
    "from sklearn import datasets\n",
    "\n",
    "# Study data files\n",
    "mouse_metadata = \"data/Mouse_metadata.csv\"\n",
    "study_results = \"data/Study_results.csv\"\n",
    "\n",
    "# Read the mouse data and the study results\n",
    "mouse_metadata = pd.read_csv(mouse_metadata)\n",
    "study_results = pd.read_csv(study_results)\n",
    "\n",
    "# Combine the data into a single dataset\n",
    "complete_df = pd.merge(mouse_metadata,study_results, on = 'Mouse ID', how = 'outer')\n",
    "\n",
    "# Data table preview\n",
    "complete_df.head()"
   ]
  },
  {
   "cell_type": "code",
   "execution_count": 2,
   "metadata": {
    "scrolled": true
   },
   "outputs": [
    {
     "data": {
      "text/html": [
       "<div>\n",
       "<style scoped>\n",
       "    .dataframe tbody tr th:only-of-type {\n",
       "        vertical-align: middle;\n",
       "    }\n",
       "\n",
       "    .dataframe tbody tr th {\n",
       "        vertical-align: top;\n",
       "    }\n",
       "\n",
       "    .dataframe thead th {\n",
       "        text-align: right;\n",
       "    }\n",
       "</style>\n",
       "<table border=\"1\" class=\"dataframe\">\n",
       "  <thead>\n",
       "    <tr style=\"text-align: right;\">\n",
       "      <th></th>\n",
       "      <th>Age_months</th>\n",
       "      <th>Weight (g)</th>\n",
       "      <th>Timepoint</th>\n",
       "      <th>Tumor Volume (mm3)</th>\n",
       "      <th>Metastatic Sites</th>\n",
       "    </tr>\n",
       "    <tr>\n",
       "      <th>Drug Regimen</th>\n",
       "      <th></th>\n",
       "      <th></th>\n",
       "      <th></th>\n",
       "      <th></th>\n",
       "      <th></th>\n",
       "    </tr>\n",
       "  </thead>\n",
       "  <tbody>\n",
       "    <tr>\n",
       "      <th>Capomulin</th>\n",
       "      <td>13.456522</td>\n",
       "      <td>19.965217</td>\n",
       "      <td>21.565217</td>\n",
       "      <td>40.675741</td>\n",
       "      <td>0.713043</td>\n",
       "    </tr>\n",
       "    <tr>\n",
       "      <th>Ceftamin</th>\n",
       "      <td>13.247191</td>\n",
       "      <td>27.398876</td>\n",
       "      <td>19.747191</td>\n",
       "      <td>52.591172</td>\n",
       "      <td>1.179775</td>\n",
       "    </tr>\n",
       "    <tr>\n",
       "      <th>Infubinol</th>\n",
       "      <td>16.230337</td>\n",
       "      <td>27.196629</td>\n",
       "      <td>18.174157</td>\n",
       "      <td>52.884795</td>\n",
       "      <td>0.960674</td>\n",
       "    </tr>\n",
       "    <tr>\n",
       "      <th>Ketapril</th>\n",
       "      <td>15.659574</td>\n",
       "      <td>27.861702</td>\n",
       "      <td>19.707447</td>\n",
       "      <td>55.235638</td>\n",
       "      <td>1.297872</td>\n",
       "    </tr>\n",
       "    <tr>\n",
       "      <th>Naftisol</th>\n",
       "      <td>12.000000</td>\n",
       "      <td>27.166667</td>\n",
       "      <td>19.623656</td>\n",
       "      <td>54.331565</td>\n",
       "      <td>1.182796</td>\n",
       "    </tr>\n",
       "    <tr>\n",
       "      <th>Placebo</th>\n",
       "      <td>10.734807</td>\n",
       "      <td>27.928177</td>\n",
       "      <td>18.674033</td>\n",
       "      <td>54.033581</td>\n",
       "      <td>1.441989</td>\n",
       "    </tr>\n",
       "    <tr>\n",
       "      <th>Propriva</th>\n",
       "      <td>10.894410</td>\n",
       "      <td>27.043478</td>\n",
       "      <td>16.863354</td>\n",
       "      <td>52.322552</td>\n",
       "      <td>0.975155</td>\n",
       "    </tr>\n",
       "    <tr>\n",
       "      <th>Ramicane</th>\n",
       "      <td>10.684211</td>\n",
       "      <td>19.679825</td>\n",
       "      <td>21.425439</td>\n",
       "      <td>40.216745</td>\n",
       "      <td>0.548246</td>\n",
       "    </tr>\n",
       "    <tr>\n",
       "      <th>Stelasyn</th>\n",
       "      <td>12.784530</td>\n",
       "      <td>27.856354</td>\n",
       "      <td>19.226519</td>\n",
       "      <td>54.233149</td>\n",
       "      <td>0.872928</td>\n",
       "    </tr>\n",
       "    <tr>\n",
       "      <th>Zoniferol</th>\n",
       "      <td>12.598901</td>\n",
       "      <td>27.692308</td>\n",
       "      <td>19.368132</td>\n",
       "      <td>53.236507</td>\n",
       "      <td>1.230769</td>\n",
       "    </tr>\n",
       "  </tbody>\n",
       "</table>\n",
       "</div>"
      ],
      "text/plain": [
       "              Age_months  Weight (g)  Timepoint  Tumor Volume (mm3)  \\\n",
       "Drug Regimen                                                          \n",
       "Capomulin      13.456522   19.965217  21.565217           40.675741   \n",
       "Ceftamin       13.247191   27.398876  19.747191           52.591172   \n",
       "Infubinol      16.230337   27.196629  18.174157           52.884795   \n",
       "Ketapril       15.659574   27.861702  19.707447           55.235638   \n",
       "Naftisol       12.000000   27.166667  19.623656           54.331565   \n",
       "Placebo        10.734807   27.928177  18.674033           54.033581   \n",
       "Propriva       10.894410   27.043478  16.863354           52.322552   \n",
       "Ramicane       10.684211   19.679825  21.425439           40.216745   \n",
       "Stelasyn       12.784530   27.856354  19.226519           54.233149   \n",
       "Zoniferol      12.598901   27.692308  19.368132           53.236507   \n",
       "\n",
       "              Metastatic Sites  \n",
       "Drug Regimen                    \n",
       "Capomulin             0.713043  \n",
       "Ceftamin              1.179775  \n",
       "Infubinol             0.960674  \n",
       "Ketapril              1.297872  \n",
       "Naftisol              1.182796  \n",
       "Placebo               1.441989  \n",
       "Propriva              0.975155  \n",
       "Ramicane              0.548246  \n",
       "Stelasyn              0.872928  \n",
       "Zoniferol             1.230769  "
      ]
     },
     "execution_count": 2,
     "metadata": {},
     "output_type": "execute_result"
    }
   ],
   "source": [
    "mean_age =complete_df.groupby('Drug Regimen').mean()['Age_months']\n",
    "mean_metasites = complete_df.groupby('Drug Regimen').mean()['Metastatic Sites']\n",
    "complete_df.groupby('Drug Regimen').mean()"
   ]
  },
  {
   "cell_type": "markdown",
   "metadata": {},
   "source": [
    "### Error Check"
   ]
  },
  {
   "cell_type": "code",
   "execution_count": 3,
   "metadata": {
    "scrolled": true
   },
   "outputs": [
    {
     "data": {
      "text/plain": [
       "Drug Regimen\n",
       "Capomulin     4\n",
       "Ramicane      5\n",
       "Zoniferol    11\n",
       "Ceftamin     12\n",
       "Naftisol     12\n",
       "Stelasyn     13\n",
       "Ketapril     14\n",
       "Placebo      14\n",
       "Infubinol    16\n",
       "Propriva     17\n",
       "Name: index_x, dtype: int64"
      ]
     },
     "execution_count": 3,
     "metadata": {},
     "output_type": "execute_result"
    }
   ],
   "source": [
    "#there are 10 time points.  The mouse may die,\n",
    "#but there shouldn't be any counts greater than 10\n",
    "a =complete_df['Mouse ID'].value_counts()\n",
    "a = pd.DataFrame(a)\n",
    "a=a[a['Mouse ID']<10]\n",
    "b = complete_df[['Mouse ID', 'Drug Regimen']].drop_duplicates()\n",
    "b = b.reset_index()\n",
    "a =a.reset_index()\n",
    "#c = pd.merge(a,b, on = 'Mouse ID',how = 'left')\n",
    "c =a.merge(b,left_on='index', right_on = 'Mouse ID')\n",
    "d =c.groupby('Drug Regimen').count()\n",
    "d.sort_values('index_x')['index_x']"
   ]
  },
  {
   "cell_type": "code",
   "execution_count": 4,
   "metadata": {},
   "outputs": [
    {
     "data": {
      "text/html": [
       "<div>\n",
       "<style scoped>\n",
       "    .dataframe tbody tr th:only-of-type {\n",
       "        vertical-align: middle;\n",
       "    }\n",
       "\n",
       "    .dataframe tbody tr th {\n",
       "        vertical-align: top;\n",
       "    }\n",
       "\n",
       "    .dataframe thead th {\n",
       "        text-align: right;\n",
       "    }\n",
       "</style>\n",
       "<table border=\"1\" class=\"dataframe\">\n",
       "  <thead>\n",
       "    <tr style=\"text-align: right;\">\n",
       "      <th></th>\n",
       "      <th>Mouse ID</th>\n",
       "      <th>Drug Regimen</th>\n",
       "      <th>Sex</th>\n",
       "      <th>Age_months</th>\n",
       "      <th>Weight (g)</th>\n",
       "      <th>Timepoint</th>\n",
       "      <th>Tumor Volume (mm3)</th>\n",
       "      <th>Metastatic Sites</th>\n",
       "    </tr>\n",
       "  </thead>\n",
       "  <tbody>\n",
       "    <tr>\n",
       "      <th>908</th>\n",
       "      <td>g989</td>\n",
       "      <td>Propriva</td>\n",
       "      <td>Female</td>\n",
       "      <td>21</td>\n",
       "      <td>26</td>\n",
       "      <td>0</td>\n",
       "      <td>45.000000</td>\n",
       "      <td>0</td>\n",
       "    </tr>\n",
       "    <tr>\n",
       "      <th>909</th>\n",
       "      <td>g989</td>\n",
       "      <td>Propriva</td>\n",
       "      <td>Female</td>\n",
       "      <td>21</td>\n",
       "      <td>26</td>\n",
       "      <td>0</td>\n",
       "      <td>45.000000</td>\n",
       "      <td>0</td>\n",
       "    </tr>\n",
       "    <tr>\n",
       "      <th>910</th>\n",
       "      <td>g989</td>\n",
       "      <td>Propriva</td>\n",
       "      <td>Female</td>\n",
       "      <td>21</td>\n",
       "      <td>26</td>\n",
       "      <td>5</td>\n",
       "      <td>48.786801</td>\n",
       "      <td>0</td>\n",
       "    </tr>\n",
       "    <tr>\n",
       "      <th>911</th>\n",
       "      <td>g989</td>\n",
       "      <td>Propriva</td>\n",
       "      <td>Female</td>\n",
       "      <td>21</td>\n",
       "      <td>26</td>\n",
       "      <td>5</td>\n",
       "      <td>47.570392</td>\n",
       "      <td>0</td>\n",
       "    </tr>\n",
       "    <tr>\n",
       "      <th>912</th>\n",
       "      <td>g989</td>\n",
       "      <td>Propriva</td>\n",
       "      <td>Female</td>\n",
       "      <td>21</td>\n",
       "      <td>26</td>\n",
       "      <td>10</td>\n",
       "      <td>51.745156</td>\n",
       "      <td>0</td>\n",
       "    </tr>\n",
       "  </tbody>\n",
       "</table>\n",
       "</div>"
      ],
      "text/plain": [
       "    Mouse ID Drug Regimen     Sex  Age_months  Weight (g)  Timepoint  \\\n",
       "908     g989     Propriva  Female          21          26          0   \n",
       "909     g989     Propriva  Female          21          26          0   \n",
       "910     g989     Propriva  Female          21          26          5   \n",
       "911     g989     Propriva  Female          21          26          5   \n",
       "912     g989     Propriva  Female          21          26         10   \n",
       "\n",
       "     Tumor Volume (mm3)  Metastatic Sites  \n",
       "908           45.000000                 0  \n",
       "909           45.000000                 0  \n",
       "910           48.786801                 0  \n",
       "911           47.570392                 0  \n",
       "912           51.745156                 0  "
      ]
     },
     "execution_count": 4,
     "metadata": {},
     "output_type": "execute_result"
    }
   ],
   "source": [
    "#g989 has multiple duplicate entries/errors\n",
    "#At time point 5 there are conflicting Tumor Volumes\n",
    "complete_df[complete_df['Mouse ID']=='g989'].head()"
   ]
  },
  {
   "cell_type": "code",
   "execution_count": 5,
   "metadata": {},
   "outputs": [
    {
     "data": {
      "text/html": [
       "<div>\n",
       "<style scoped>\n",
       "    .dataframe tbody tr th:only-of-type {\n",
       "        vertical-align: middle;\n",
       "    }\n",
       "\n",
       "    .dataframe tbody tr th {\n",
       "        vertical-align: top;\n",
       "    }\n",
       "\n",
       "    .dataframe thead th {\n",
       "        text-align: right;\n",
       "    }\n",
       "</style>\n",
       "<table border=\"1\" class=\"dataframe\">\n",
       "  <thead>\n",
       "    <tr style=\"text-align: right;\">\n",
       "      <th></th>\n",
       "      <th>Mouse ID</th>\n",
       "      <th>Drug Regimen</th>\n",
       "      <th>Sex</th>\n",
       "      <th>Age_months</th>\n",
       "      <th>Weight (g)</th>\n",
       "      <th>Timepoint</th>\n",
       "      <th>Tumor Volume (mm3)</th>\n",
       "      <th>Metastatic Sites</th>\n",
       "    </tr>\n",
       "  </thead>\n",
       "  <tbody>\n",
       "    <tr>\n",
       "      <th>0</th>\n",
       "      <td>k403</td>\n",
       "      <td>Ramicane</td>\n",
       "      <td>Male</td>\n",
       "      <td>21</td>\n",
       "      <td>16</td>\n",
       "      <td>0</td>\n",
       "      <td>45.000000</td>\n",
       "      <td>0</td>\n",
       "    </tr>\n",
       "    <tr>\n",
       "      <th>1</th>\n",
       "      <td>k403</td>\n",
       "      <td>Ramicane</td>\n",
       "      <td>Male</td>\n",
       "      <td>21</td>\n",
       "      <td>16</td>\n",
       "      <td>5</td>\n",
       "      <td>38.825898</td>\n",
       "      <td>0</td>\n",
       "    </tr>\n",
       "    <tr>\n",
       "      <th>2</th>\n",
       "      <td>k403</td>\n",
       "      <td>Ramicane</td>\n",
       "      <td>Male</td>\n",
       "      <td>21</td>\n",
       "      <td>16</td>\n",
       "      <td>10</td>\n",
       "      <td>35.014271</td>\n",
       "      <td>1</td>\n",
       "    </tr>\n",
       "    <tr>\n",
       "      <th>3</th>\n",
       "      <td>k403</td>\n",
       "      <td>Ramicane</td>\n",
       "      <td>Male</td>\n",
       "      <td>21</td>\n",
       "      <td>16</td>\n",
       "      <td>15</td>\n",
       "      <td>34.223992</td>\n",
       "      <td>1</td>\n",
       "    </tr>\n",
       "    <tr>\n",
       "      <th>4</th>\n",
       "      <td>k403</td>\n",
       "      <td>Ramicane</td>\n",
       "      <td>Male</td>\n",
       "      <td>21</td>\n",
       "      <td>16</td>\n",
       "      <td>20</td>\n",
       "      <td>32.997729</td>\n",
       "      <td>1</td>\n",
       "    </tr>\n",
       "  </tbody>\n",
       "</table>\n",
       "</div>"
      ],
      "text/plain": [
       "  Mouse ID Drug Regimen   Sex  Age_months  Weight (g)  Timepoint  \\\n",
       "0     k403     Ramicane  Male          21          16          0   \n",
       "1     k403     Ramicane  Male          21          16          5   \n",
       "2     k403     Ramicane  Male          21          16         10   \n",
       "3     k403     Ramicane  Male          21          16         15   \n",
       "4     k403     Ramicane  Male          21          16         20   \n",
       "\n",
       "   Tumor Volume (mm3)  Metastatic Sites  \n",
       "0           45.000000                 0  \n",
       "1           38.825898                 0  \n",
       "2           35.014271                 1  \n",
       "3           34.223992                 1  \n",
       "4           32.997729                 1  "
      ]
     },
     "execution_count": 5,
     "metadata": {},
     "output_type": "execute_result"
    }
   ],
   "source": [
    "clean_data = complete_df.copy()\n",
    "clean_data =clean_data.set_index('Mouse ID')\n",
    "clean_data = clean_data.drop(index = 'g989')\n",
    "clean_data = clean_data.reset_index()\n",
    "clean_data.head()"
   ]
  },
  {
   "cell_type": "markdown",
   "metadata": {},
   "source": [
    "## Summary statistics"
   ]
  },
  {
   "cell_type": "code",
   "execution_count": 6,
   "metadata": {
    "scrolled": true
   },
   "outputs": [
    {
     "data": {
      "text/html": [
       "<div>\n",
       "<style scoped>\n",
       "    .dataframe tbody tr th:only-of-type {\n",
       "        vertical-align: middle;\n",
       "    }\n",
       "\n",
       "    .dataframe tbody tr th {\n",
       "        vertical-align: top;\n",
       "    }\n",
       "\n",
       "    .dataframe thead th {\n",
       "        text-align: right;\n",
       "    }\n",
       "</style>\n",
       "<table border=\"1\" class=\"dataframe\">\n",
       "  <thead>\n",
       "    <tr style=\"text-align: right;\">\n",
       "      <th>Drug Regimen</th>\n",
       "      <th>Capomulin</th>\n",
       "      <th>Ceftamin</th>\n",
       "      <th>Infubinol</th>\n",
       "      <th>Ketapril</th>\n",
       "      <th>Naftisol</th>\n",
       "      <th>Placebo</th>\n",
       "      <th>Propriva</th>\n",
       "      <th>Ramicane</th>\n",
       "      <th>Stelasyn</th>\n",
       "      <th>Zoniferol</th>\n",
       "    </tr>\n",
       "  </thead>\n",
       "  <tbody>\n",
       "    <tr>\n",
       "      <th>Mean</th>\n",
       "      <td>40.675741</td>\n",
       "      <td>52.591172</td>\n",
       "      <td>52.884795</td>\n",
       "      <td>55.235638</td>\n",
       "      <td>54.331565</td>\n",
       "      <td>54.033581</td>\n",
       "      <td>52.320930</td>\n",
       "      <td>40.216745</td>\n",
       "      <td>54.233149</td>\n",
       "      <td>53.236507</td>\n",
       "    </tr>\n",
       "    <tr>\n",
       "      <th>Median</th>\n",
       "      <td>41.557809</td>\n",
       "      <td>51.776157</td>\n",
       "      <td>51.820584</td>\n",
       "      <td>53.698743</td>\n",
       "      <td>52.509285</td>\n",
       "      <td>52.288934</td>\n",
       "      <td>50.446266</td>\n",
       "      <td>40.673236</td>\n",
       "      <td>52.431737</td>\n",
       "      <td>51.818479</td>\n",
       "    </tr>\n",
       "    <tr>\n",
       "      <th>Variance</th>\n",
       "      <td>24.947764</td>\n",
       "      <td>39.290177</td>\n",
       "      <td>43.128684</td>\n",
       "      <td>68.553577</td>\n",
       "      <td>66.173479</td>\n",
       "      <td>61.168083</td>\n",
       "      <td>43.852013</td>\n",
       "      <td>23.486704</td>\n",
       "      <td>59.450562</td>\n",
       "      <td>48.533355</td>\n",
       "    </tr>\n",
       "    <tr>\n",
       "      <th>Standard Deviation</th>\n",
       "      <td>4.994774</td>\n",
       "      <td>6.268188</td>\n",
       "      <td>6.567243</td>\n",
       "      <td>8.279709</td>\n",
       "      <td>8.134708</td>\n",
       "      <td>7.821003</td>\n",
       "      <td>6.622085</td>\n",
       "      <td>4.846308</td>\n",
       "      <td>7.710419</td>\n",
       "      <td>6.966589</td>\n",
       "    </tr>\n",
       "    <tr>\n",
       "      <th>Standard Error of Measure</th>\n",
       "      <td>0.329346</td>\n",
       "      <td>0.469821</td>\n",
       "      <td>0.492236</td>\n",
       "      <td>0.603860</td>\n",
       "      <td>0.596466</td>\n",
       "      <td>0.581331</td>\n",
       "      <td>0.544332</td>\n",
       "      <td>0.320955</td>\n",
       "      <td>0.573111</td>\n",
       "      <td>0.516398</td>\n",
       "    </tr>\n",
       "  </tbody>\n",
       "</table>\n",
       "</div>"
      ],
      "text/plain": [
       "Drug Regimen               Capomulin   Ceftamin  Infubinol   Ketapril  \\\n",
       "Mean                       40.675741  52.591172  52.884795  55.235638   \n",
       "Median                     41.557809  51.776157  51.820584  53.698743   \n",
       "Variance                   24.947764  39.290177  43.128684  68.553577   \n",
       "Standard Deviation          4.994774   6.268188   6.567243   8.279709   \n",
       "Standard Error of Measure   0.329346   0.469821   0.492236   0.603860   \n",
       "\n",
       "Drug Regimen                Naftisol    Placebo   Propriva   Ramicane  \\\n",
       "Mean                       54.331565  54.033581  52.320930  40.216745   \n",
       "Median                     52.509285  52.288934  50.446266  40.673236   \n",
       "Variance                   66.173479  61.168083  43.852013  23.486704   \n",
       "Standard Deviation          8.134708   7.821003   6.622085   4.846308   \n",
       "Standard Error of Measure   0.596466   0.581331   0.544332   0.320955   \n",
       "\n",
       "Drug Regimen                Stelasyn  Zoniferol  \n",
       "Mean                       54.233149  53.236507  \n",
       "Median                     52.431737  51.818479  \n",
       "Variance                   59.450562  48.533355  \n",
       "Standard Deviation          7.710419   6.966589  \n",
       "Standard Error of Measure   0.573111   0.516398  "
      ]
     },
     "execution_count": 6,
     "metadata": {},
     "output_type": "execute_result"
    }
   ],
   "source": [
    "# Generate a summary statistics table of mean, median, variance, standard deviation, and SEM of the tumor volume for each regimen\n",
    "drug_regimen = clean_data[['Drug Regimen']].drop_duplicates()\n",
    "drug_regimen = drug_regimen.sort_values(by = \"Drug Regimen\")\n",
    "drug_regimen = drug_regimen.set_index(\"Drug Regimen\")\n",
    "\n",
    "drug_regimen['Mean']=clean_data.groupby('Drug Regimen').mean()['Tumor Volume (mm3)'].values\n",
    "drug_regimen['Median']= clean_data.groupby('Drug Regimen').median()['Tumor Volume (mm3)'].values\n",
    "drug_regimen['Variance'] = clean_data.groupby('Drug Regimen').var()['Tumor Volume (mm3)'].values\n",
    "drug_regimen['Standard Deviation'] = clean_data.groupby('Drug Regimen').std()['Tumor Volume (mm3)'].values\n",
    "drug_regimen['Standard Error of Measure'] = clean_data.groupby('Drug Regimen').sem()['Tumor Volume (mm3)'].values\n",
    "drug_regimen.T"
   ]
  },
  {
   "cell_type": "markdown",
   "metadata": {},
   "source": [
    "## Bar plots"
   ]
  },
  {
   "cell_type": "code",
   "execution_count": 7,
   "metadata": {
    "scrolled": false
   },
   "outputs": [
    {
     "data": {
      "image/png": "[encoded data removed]",
      "text/plain": [
       "<Figure size 432x288 with 1 Axes>"
      ]
     },
     "metadata": {
      "needs_background": "light"
     },
     "output_type": "display_data"
    }
   ],
   "source": [
    "# Generate a bar plot showing number of data points for each treatment regimen using pandas\n",
    "regimen_datapoints = clean_data[['Drug Regimen']].drop_duplicates()\n",
    "regimen_datapoints['Count'] = clean_data.groupby('Drug Regimen').count()['Tumor Volume (mm3)'].values\n",
    "regimen_datapoints\n",
    "regimen_datapoints.plot.bar('Drug Regimen','Count',alpha = 0.5)\n",
    "\n",
    "plt.xlabel('Drug Regimen')\n",
    "plt.ylabel('Data Points')\n",
    "plt.title(f\"Data Points for each Drug Regimen\")\n",
    "plt.ylim(0,250)\n",
    "\n",
    "\n",
    "plt.show()"
   ]
  },
  {
   "cell_type": "code",
   "execution_count": 8,
   "metadata": {},
   "outputs": [
    {
     "data": {
      "image/png": "[encoded data removed]",
      "text/plain": [
       "<Figure size 432x288 with 1 Axes>"
      ]
     },
     "metadata": {
      "needs_background": "light"
     },
     "output_type": "display_data"
    }
   ],
   "source": [
    "# Generate a bar plot showing number of data points for each treatment regimen using pyplot\n",
    "x_axis = np.arange(len(regimen_datapoints['Count']))\n",
    "plt.bar(x_axis, regimen_datapoints['Count'], alpha=0.5)\n",
    "plt.xticks(x_axis,regimen_datapoints['Drug Regimen'])\n",
    "plt.xticks(rotation=45)\n",
    "plt.xlim(-0.75, len(x_axis)-0.25)\n",
    "plt.ylim(0, max(regimen_datapoints['Count'])+10)\n",
    "\n",
    "plt.title(\"Number of Data Points for Each Treament\")\n",
    "plt.xlabel(\"Drug Regimen\")\n",
    "plt.ylabel(\"Data Points\")\n",
    "\n",
    "\n",
    "\n",
    "\n",
    "plt.show()"
   ]
  },
  {
   "cell_type": "markdown",
   "metadata": {},
   "source": [
    "## Pie plots"
   ]
  },
  {
   "cell_type": "code",
   "execution_count": 9,
   "metadata": {},
   "outputs": [
    {
     "data": {
      "image/png": "[encoded data removed]",
      "text/plain": [
       "<Figure size 720x720 with 1 Axes>"
      ]
     },
     "metadata": {},
     "output_type": "display_data"
    }
   ],
   "source": [
    "# Generate a pie plot showing the distribution of female versus male mice using pandas\n",
    "mouse_sex = clean_data[['Sex']].drop_duplicates()\n",
    "temp_sex = clean_data[['Mouse ID','Sex']].drop_duplicates()\n",
    "mouse_sex['Count'] = temp_sex.groupby('Sex').count().values\n",
    "mouse_sex = mouse_sex.set_index('Sex')\n",
    "mouse_sex.plot.pie(y ='Count', figsize = (10,10),fontsize = 20, colors =['r','c'],autopct = '%.2f')\n",
    "plt.title= 'Distribution of Female vs Male Mice'\n",
    "plt.show()"
   ]
  },
  {
   "cell_type": "code",
   "execution_count": 10,
   "metadata": {},
   "outputs": [
    {
     "data": {
      "image/png": "[encoded data removed]",
      "text/plain": [
       "<Figure size 700x700 with 1 Axes>"
      ]
     },
     "metadata": {},
     "output_type": "display_data"
    }
   ],
   "source": [
    "# Generate a pie plot showing the distribution of female versus male mice using pyplot\n",
    "plt.figure(figsize = (7,7), dpi = 100)\n",
    "explode = (0.1, 0)\n",
    "\n",
    "#plt.title('Distribution of Female vs Male Mice')\n",
    "plt.pie(mouse_sex.Count.values,labels = mouse_sex.index.values,  explode = explode)\n",
    "plt.show()\n"
   ]
  },
  {
   "cell_type": "markdown",
   "metadata": {},
   "source": [
    "## Quartiles, outliers and boxplots"
   ]
  },
  {
   "cell_type": "code",
   "execution_count": 11,
   "metadata": {},
   "outputs": [
    {
     "data": {
      "text/html": [
       "<div>\n",
       "<style scoped>\n",
       "    .dataframe tbody tr th:only-of-type {\n",
       "        vertical-align: middle;\n",
       "    }\n",
       "\n",
       "    .dataframe tbody tr th {\n",
       "        vertical-align: top;\n",
       "    }\n",
       "\n",
       "    .dataframe thead th {\n",
       "        text-align: right;\n",
       "    }\n",
       "</style>\n",
       "<table border=\"1\" class=\"dataframe\">\n",
       "  <thead>\n",
       "    <tr style=\"text-align: right;\">\n",
       "      <th></th>\n",
       "      <th>Mouse ID</th>\n",
       "      <th>Drug Regimen</th>\n",
       "      <th>Timepoint</th>\n",
       "      <th>Tumor Volume (mm3)</th>\n",
       "    </tr>\n",
       "  </thead>\n",
       "  <tbody>\n",
       "    <tr>\n",
       "      <th>9</th>\n",
       "      <td>k403</td>\n",
       "      <td>Ramicane</td>\n",
       "      <td>45</td>\n",
       "      <td>22.050126</td>\n",
       "    </tr>\n",
       "    <tr>\n",
       "      <th>19</th>\n",
       "      <td>s185</td>\n",
       "      <td>Capomulin</td>\n",
       "      <td>45</td>\n",
       "      <td>23.343598</td>\n",
       "    </tr>\n",
       "    <tr>\n",
       "      <th>29</th>\n",
       "      <td>x401</td>\n",
       "      <td>Capomulin</td>\n",
       "      <td>45</td>\n",
       "      <td>28.484033</td>\n",
       "    </tr>\n",
       "    <tr>\n",
       "      <th>39</th>\n",
       "      <td>m601</td>\n",
       "      <td>Capomulin</td>\n",
       "      <td>45</td>\n",
       "      <td>28.430964</td>\n",
       "    </tr>\n",
       "    <tr>\n",
       "      <th>49</th>\n",
       "      <td>g791</td>\n",
       "      <td>Ramicane</td>\n",
       "      <td>45</td>\n",
       "      <td>29.128472</td>\n",
       "    </tr>\n",
       "    <tr>\n",
       "      <th>...</th>\n",
       "      <td>...</td>\n",
       "      <td>...</td>\n",
       "      <td>...</td>\n",
       "      <td>...</td>\n",
       "    </tr>\n",
       "    <tr>\n",
       "      <th>1846</th>\n",
       "      <td>z314</td>\n",
       "      <td>Stelasyn</td>\n",
       "      <td>5</td>\n",
       "      <td>45.934712</td>\n",
       "    </tr>\n",
       "    <tr>\n",
       "      <th>1849</th>\n",
       "      <td>z435</td>\n",
       "      <td>Propriva</td>\n",
       "      <td>10</td>\n",
       "      <td>48.710661</td>\n",
       "    </tr>\n",
       "    <tr>\n",
       "      <th>1859</th>\n",
       "      <td>z581</td>\n",
       "      <td>Infubinol</td>\n",
       "      <td>45</td>\n",
       "      <td>62.754451</td>\n",
       "    </tr>\n",
       "    <tr>\n",
       "      <th>1869</th>\n",
       "      <td>z795</td>\n",
       "      <td>Naftisol</td>\n",
       "      <td>45</td>\n",
       "      <td>65.741070</td>\n",
       "    </tr>\n",
       "    <tr>\n",
       "      <th>1879</th>\n",
       "      <td>z969</td>\n",
       "      <td>Naftisol</td>\n",
       "      <td>45</td>\n",
       "      <td>73.867845</td>\n",
       "    </tr>\n",
       "  </tbody>\n",
       "</table>\n",
       "<p>248 rows × 4 columns</p>\n",
       "</div>"
      ],
      "text/plain": [
       "     Mouse ID Drug Regimen  Timepoint  Tumor Volume (mm3)\n",
       "9        k403     Ramicane         45           22.050126\n",
       "19       s185    Capomulin         45           23.343598\n",
       "29       x401    Capomulin         45           28.484033\n",
       "39       m601    Capomulin         45           28.430964\n",
       "49       g791     Ramicane         45           29.128472\n",
       "...       ...          ...        ...                 ...\n",
       "1846     z314     Stelasyn          5           45.934712\n",
       "1849     z435     Propriva         10           48.710661\n",
       "1859     z581    Infubinol         45           62.754451\n",
       "1869     z795     Naftisol         45           65.741070\n",
       "1879     z969     Naftisol         45           73.867845\n",
       "\n",
       "[248 rows x 4 columns]"
      ]
     },
     "execution_count": 11,
     "metadata": {},
     "output_type": "execute_result"
    }
   ],
   "source": [
    "test =clean_data[['Mouse ID','Drug Regimen','Timepoint','Tumor Volume (mm3)']]\n",
    "test4 = test.drop_duplicates(subset='Mouse ID',keep='last')\n",
    "#test2 =test.groupby('Mouse ID').max()['Timepoint']\n",
    "#test3 =test.groupby('Mouse ID').min()[]\n",
    "#df = pd.DataFrame(test2)\n",
    "test4"
   ]
  },
  {
   "cell_type": "code",
   "execution_count": 12,
   "metadata": {
    "scrolled": true
   },
   "outputs": [
    {
     "name": "stdout",
     "output_type": "stream",
     "text": [
      "The lower quartile for capomulin is 38.75326548\n",
      "The upper quartile for capomulin is 62.03059364\n",
      "The inner quartile range for capomulin is 23.277328159999996\n",
      "The lower bound for capomulin is 3.837273240000009\n",
      "The upper bound for capomulin is 96.94658587999999\n",
      "Major outliers are []\n",
      "--------------------\n",
      "The lower quartile for ramicane is 38.75326548\n",
      "The upper quartile for ramicane is 62.03059364\n",
      "The inner quartile range for ramicane is 23.277328159999996\n",
      "The lower bound for ramicane is 3.837273240000009\n",
      "The upper bound for ramicane is 96.94658587999999\n",
      "Major outliers are []\n",
      "--------------------\n",
      "The lower quartile for infubinol is 38.75326548\n",
      "The upper quartile for infubinol is 62.03059364\n",
      "The inner quartile range for infubinol is 23.277328159999996\n",
      "The lower bound for infubinol is 3.837273240000009\n",
      "The upper bound for infubinol is 96.94658587999999\n",
      "Major outliers are []\n",
      "Minor outlier is 36.321345799999996\n",
      "--------------------\n",
      "The lower quartile for ceftamin is 38.75326548\n",
      "The upper quartile for ceftamin is 62.03059364\n",
      "The inner quartile range for ceftamin is 23.277328159999996\n",
      "The lower bound for ceftamin is 3.837273240000009\n",
      "The upper bound for ceftamin is 96.94658587999999\n",
      "Major outliers are []\n",
      "--------------------\n"
     ]
    }
   ],
   "source": [
    "# Calculate the final tumor volume of each mouse across four of the most promising treatment regimens. Calculate the IQR and quantitatively determine if there are any potential outliers.\n",
    "initial_timepoint = clean_data[clean_data['Timepoint']==0]\n",
    "final_timepoint_45 = clean_data[clean_data['Timepoint']==45]\n",
    "final_timepoint = clean_data.drop_duplicates(subset='Mouse ID',keep='last')\n",
    "initial_tumor_volume = initial_timepoint.groupby('Drug Regimen').mean()[['Tumor Volume (mm3)']]\n",
    "final_tumor_volume = final_timepoint_45.groupby('Drug Regimen').mean()[['Tumor Volume (mm3)']]\n",
    "top_four = ((final_tumor_volume-initial_tumor_volume)/initial_tumor_volume).sort_values('Tumor Volume (mm3)')\n",
    "placebo = top_four[top_four.index=='Placebo']\n",
    "top_four =top_four.head(4)\n",
    "top_four =top_four.append(placebo)\n",
    "\n",
    "final_timepoint = final_timepoint.set_index('Drug Regimen')\n",
    "final_timepoint_reduced = final_timepoint[[\"Tumor Volume (mm3)\"]]\n",
    "\n",
    "output = pd.merge(top_four,final_timepoint_reduced,on = \"Drug Regimen\",how = 'left')\n",
    "output = output[['Tumor Volume (mm3)_y']]\n",
    "output.columns = ['Final Tumor Volume']\n",
    "tumor_sizes = output['Final Tumor Volume'].values\n",
    "\n",
    "quartiles = output['Final Tumor Volume'].quantile([.25,.5,.75])\n",
    "lowerq = quartiles[0.25]\n",
    "upperq = quartiles[0.75]\n",
    "iqr = upperq-lowerq\n",
    "\n",
    "lower_bound = lowerq - (1.5*iqr)\n",
    "upper_bound = upperq + (1.5*iqr)\n",
    "\n",
    "\n",
    "\n",
    "\n",
    "capomulin=output[output.index=='Capomulin']\n",
    "ramicane=output[output.index=='Ramicane']\n",
    "infubinol=output[output.index=='Infubinol']\n",
    "ceftamin=output[output.index=='Ceftamin']\n",
    "placebo=output[output.index=='Placebo']\n",
    "\n",
    "\n",
    "\n",
    "capomulin_quartiles = capomulin['Final Tumor Volume'].quantile([.25,.5,.75])\n",
    "capomulin_lowerq = quartiles[0.25]\n",
    "capomulin_upperq = quartiles[0.75]\n",
    "capomulin_iqr = upperq-lowerq\n",
    "capomulin_lower_bound = lowerq - (1.5*iqr)\n",
    "capomulin_upper_bound = upperq + (1.5*iqr)\n",
    "\n",
    "ramicane_quartiles = ramicane['Final Tumor Volume'].quantile([.25,.5,.75])\n",
    "ramicane_lowerq = quartiles[0.25]\n",
    "ramicane_upperq = quartiles[0.75]\n",
    "ramicane_iqr = upperq-lowerq\n",
    "ramicane_lower_bound = lowerq - (1.5*iqr)\n",
    "ramicane_upper_bound = upperq + (1.5*iqr)\n",
    "\n",
    "infubinol_quartiles = infubinol['Final Tumor Volume'].quantile([.25,.5,.75])\n",
    "infubinol_lowerq = quartiles[0.25]\n",
    "infubinol_upperq = quartiles[0.75]\n",
    "infubinol_iqr = upperq-lowerq\n",
    "infubinol_lower_bound = lowerq - (1.5*iqr)\n",
    "infubinol_upper_bound = upperq + (1.5*iqr)\n",
    "i_min = infubinol[\"Final Tumor Volume\"].min()\n",
    "ceftamin_quartiles = ceftamin['Final Tumor Volume'].quantile([.25,.5,.75])\n",
    "ceftamin_lowerq = quartiles[0.25]\n",
    "ceftamin_upperq = quartiles[0.75]\n",
    "ceftamin_iqr = upperq-lowerq\n",
    "ceftamin_lower_bound = lowerq - (1.5*iqr)\n",
    "ceftamin_upper_bound = upperq + (1.5*iqr)\n",
    "\n",
    "placebo_quartiles = placebo['Final Tumor Volume'].quantile([.25,.5,.75])\n",
    "placebo_lowerq = quartiles[0.25]\n",
    "placebo_upperq = quartiles[0.75]\n",
    "placebo_iqr = upperq-lowerq\n",
    "placebo_lower_bound = lowerq - (1.5*iqr)\n",
    "placebo_upper_bound = upperq + (1.5*iqr)\n",
    "\n",
    "print(f\"The lower quartile for capomulin is {capomulin_lowerq}\")\n",
    "print(f\"The upper quartile for capomulin is {capomulin_upperq}\")\n",
    "print(f\"The inner quartile range for capomulin is {capomulin_iqr}\")\n",
    "print(f\"The lower bound for capomulin is {capomulin_lower_bound}\")\n",
    "print(f\"The upper bound for capomulin is {capomulin_upper_bound}\")\n",
    "print(f\"Major outliers are {capomulin[(capomulin['Final Tumor Volume']>capomulin_upper_bound) |(capomulin['Final Tumor Volume']<capomulin_lower_bound)].values}\")\n",
    "\n",
    "print(\"--------------------\")\n",
    "print(f\"The lower quartile for ramicane is {ramicane_lowerq}\")\n",
    "print(f\"The upper quartile for ramicane is {ramicane_upperq}\")\n",
    "print(f\"The inner quartile range for ramicane is {ramicane_iqr}\")\n",
    "print(f\"The lower bound for ramicane is {ramicane_lower_bound}\")\n",
    "print(f\"The upper bound for ramicane is {ramicane_upper_bound}\")\n",
    "print(f\"Major outliers are {ramicane[(ramicane['Final Tumor Volume']>ramicane_upper_bound) |(ramicane['Final Tumor Volume']<ramicane_lower_bound)].values}\")\n",
    "print(\"--------------------\")\n",
    "print(f\"The lower quartile for infubinol is {infubinol_lowerq}\")\n",
    "print(f\"The upper quartile for infubinol is {infubinol_upperq}\")\n",
    "print(f\"The inner quartile range for infubinol is {infubinol_iqr}\")\n",
    "print(f\"The lower bound for infubinol is {infubinol_lower_bound}\")\n",
    "print(f\"The upper bound for infubinol is {infubinol_upper_bound}\")\n",
    "print(f\"Major outliers are {infubinol[(infubinol['Final Tumor Volume']>infubinol_upper_bound) |(infubinol['Final Tumor Volume']<infubinol_lower_bound)].values}\")\n",
    "print(f\"Minor outlier is {i_min}\")\n",
    "print(\"--------------------\")\n",
    "print(f\"The lower quartile for ceftamin is {ceftamin_lowerq}\")\n",
    "print(f\"The upper quartile for ceftamin is {ceftamin_upperq}\")\n",
    "print(f\"The inner quartile range for ceftamin is {ceftamin_iqr}\")\n",
    "print(f\"The lower bound for ceftamin is {ceftamin_lower_bound}\")\n",
    "print(f\"The upper bound for ceftamin is {ceftamin_upper_bound}\")\n",
    "print(f\"Major outliers are {ceftamin[(ceftamin['Final Tumor Volume']>ceftamin_upper_bound) |(ceftamin['Final Tumor Volume']<ceftamin_lower_bound)].values}\")\n",
    "print(\"--------------------\")"
   ]
  },
  {
   "cell_type": "code",
   "execution_count": 13,
   "metadata": {},
   "outputs": [
    {
     "data": {
      "text/html": [
       "<div>\n",
       "<style scoped>\n",
       "    .dataframe tbody tr th:only-of-type {\n",
       "        vertical-align: middle;\n",
       "    }\n",
       "\n",
       "    .dataframe tbody tr th {\n",
       "        vertical-align: top;\n",
       "    }\n",
       "\n",
       "    .dataframe thead th {\n",
       "        text-align: right;\n",
       "    }\n",
       "</style>\n",
       "<table border=\"1\" class=\"dataframe\">\n",
       "  <thead>\n",
       "    <tr style=\"text-align: right;\">\n",
       "      <th></th>\n",
       "      <th>Tumor Volume (mm3)</th>\n",
       "    </tr>\n",
       "    <tr>\n",
       "      <th>Drug Regimen</th>\n",
       "      <th></th>\n",
       "    </tr>\n",
       "  </thead>\n",
       "  <tbody>\n",
       "    <tr>\n",
       "      <th>Ramicane</th>\n",
       "      <td>-0.223209</td>\n",
       "    </tr>\n",
       "    <tr>\n",
       "      <th>Capomulin</th>\n",
       "      <td>-0.194753</td>\n",
       "    </tr>\n",
       "    <tr>\n",
       "      <th>Ceftamin</th>\n",
       "      <td>0.425165</td>\n",
       "    </tr>\n",
       "    <tr>\n",
       "      <th>Infubinol</th>\n",
       "      <td>0.461235</td>\n",
       "    </tr>\n",
       "    <tr>\n",
       "      <th>Placebo</th>\n",
       "      <td>0.512980</td>\n",
       "    </tr>\n",
       "  </tbody>\n",
       "</table>\n",
       "</div>"
      ],
      "text/plain": [
       "              Tumor Volume (mm3)\n",
       "Drug Regimen                    \n",
       "Ramicane               -0.223209\n",
       "Capomulin              -0.194753\n",
       "Ceftamin                0.425165\n",
       "Infubinol               0.461235\n",
       "Placebo                 0.512980"
      ]
     },
     "execution_count": 13,
     "metadata": {},
     "output_type": "execute_result"
    }
   ],
   "source": [
    "# top four alongside placebo\n",
    "top_four"
   ]
  },
  {
   "cell_type": "code",
   "execution_count": 14,
   "metadata": {},
   "outputs": [
    {
     "data": {
      "image/png": "[encoded data removed]",
      "text/plain": [
       "<Figure size 1000x800 with 1 Axes>"
      ]
     },
     "metadata": {
      "needs_background": "light"
     },
     "output_type": "display_data"
    }
   ],
   "source": [
    "plt.figure(figsize = (10,8), dpi = 100)\n",
    "plt.style.use('default')\n",
    "plt.boxplot([capomulin['Final Tumor Volume'],ramicane['Final Tumor Volume'],\n",
    "             infubinol['Final Tumor Volume'],ceftamin['Final Tumor Volume'],\n",
    "             placebo['Final Tumor Volume']], labels = [\"capomulin\",\"ramicane\",\"infubinol\",\"ceftamin\",\"placebo\"],\n",
    "           patch_artist = True, medianprops = {'linewidth':3},sym='+')\n",
    "\n",
    "#plt.title(\"Final Tumor Volume of Promising Drug Regimens\")\n",
    "plt.xlabel(\"Drug Regimens\")\n",
    "plt.ylabel(\"Final Tumor Volume (mm^3)\")\n",
    "plt.ylim(0,100)\n",
    "\n",
    "plt.show()"
   ]
  },
  {
   "cell_type": "code",
   "execution_count": 15,
   "metadata": {},
   "outputs": [
    {
     "data": {
      "text/plain": [
       "0"
      ]
     },
     "execution_count": 15,
     "metadata": {},
     "output_type": "execute_result"
    }
   ],
   "source": [
    "sum(capomulin[\"Final Tumor Volume\"]<capomulin_lower_bound)"
   ]
  },
  {
   "cell_type": "code",
   "execution_count": 16,
   "metadata": {},
   "outputs": [],
   "source": [
    "capomulin=output[output.index=='Capomulin']\n",
    "ramicane=output[output.index=='Ramicane']\n",
    "infubinol=output[output.index=='Infubinol']\n",
    "ceftamin=output[output.index=='Ceftamin']\n",
    "placebo=output[output.index=='Placebo']"
   ]
  },
  {
   "cell_type": "code",
   "execution_count": null,
   "metadata": {},
   "outputs": [],
   "source": []
  },
  {
   "cell_type": "markdown",
   "metadata": {},
   "source": [
    "## Line and scatter plots"
   ]
  },
  {
   "cell_type": "code",
   "execution_count": 17,
   "metadata": {},
   "outputs": [
    {
     "data": {
      "image/png": "[encoded data removed]",
      "text/plain": [
       "<Figure size 640x480 with 1 Axes>"
      ]
     },
     "metadata": {},
     "output_type": "display_data"
    }
   ],
   "source": [
    "# Generate a line plot of time point versus tumor volume for a mouse treated with Capomulin\n",
    "#mouse_id = input(\"Enter Mouse ID\")\n",
    "mouse_id = 'b128'\n",
    "capomulin_df = clean_data[clean_data['Drug Regimen']==\"Capomulin\"]\n",
    "mouse_id_df = capomulin_df[capomulin_df['Mouse ID']==mouse_id]\n",
    "\n",
    "mouse_id_df.set_index('Timepoint', inplace = True)\n",
    "mouse_id_df[\"Tumor Volume (mm3)\"].plot(color = 'DarkBlue',label=mouse_id)\n",
    "plt.figure(1)\n",
    "plt.xlabel('Time (Days)')\n",
    "plt.ylabel('Tumor Size (mm^3)')\n",
    "#plt.title(\"Capomulin Regimen on b128\")\n",
    "plt.ylim(0,46)\n",
    "plt.legend()\n",
    "\n",
    "plt.show()\n"
   ]
  },
  {
   "cell_type": "code",
   "execution_count": 18,
   "metadata": {
    "scrolled": false
   },
   "outputs": [
    {
     "data": {
      "image/png": "[encoded data removed]",
      "text/plain": [
       "<Figure size 640x480 with 1 Axes>"
      ]
     },
     "metadata": {},
     "output_type": "display_data"
    }
   ],
   "source": [
    "# Generate a scatter plot of mouse weight versus average tumor volume for the Capomulin regimen\n",
    "\n",
    "capomulin_df = clean_data[clean_data['Drug Regimen']==\"Capomulin\"]\n",
    "capomulin_groupby_weight = capomulin_df.groupby('Mouse ID').mean()\n",
    "capomulin_groupby_weight =capomulin_groupby_weight.reset_index()\n",
    "capomulin_df_reduced =capomulin_groupby_weight[['Weight (g)', 'Tumor Volume (mm3)']]\n",
    "\n",
    "capomulin_df_reduced.plot.scatter('Weight (g)','Tumor Volume (mm3)').invert_xaxis()\n",
    "\n",
    "plt.xlabel('Mouse Weight')\n",
    "plt.ylabel('Tumor Size (mm^3)')\n",
    "#plt.title(f\"Capomulin Regimen on {mouse_id}: \\nMouse Weight vs Tumor Size\")\n",
    "plt.ylim(0,50)\n",
    "\n",
    "\n",
    "plt.show()"
   ]
  },
  {
   "cell_type": "code",
   "execution_count": 19,
   "metadata": {
    "scrolled": false
   },
   "outputs": [
    {
     "name": "stdout",
     "output_type": "stream",
     "text": [
      "The correlation between both factors is 0.84\n",
      "The r-squared is: 0.8419363424694718\n"
     ]
    },
    {
     "data": {
      "image/png": "[encoded data removed]",
      "text/plain": [
       "<Figure size 640x480 with 1 Axes>"
      ]
     },
     "metadata": {},
     "output_type": "display_data"
    }
   ],
   "source": [
    "# Calculate the correlation coefficient and linear regression model for mouse weight and average tumor volume for the Capomulin regimen\n",
    "fig , ax = plt.subplots()\n",
    "x_values =capomulin_groupby_weight['Weight (g)']\n",
    "y_values =capomulin_groupby_weight['Tumor Volume (mm3)']\n",
    "\n",
    "#Correlation\n",
    "correlation = st.pearsonr(x_values,y_values)\n",
    "print(f\"The correlation between both factors is {round(correlation[0],2)}\")\n",
    "\n",
    "(slope, intercept, rvalue, pvalue, stderr) = st.linregress(x_values, y_values)\n",
    "regress_values = x_values * slope + intercept\n",
    "line_eq = \"y = \" + str(round(slope,2)) + \"x + \" + str(round(intercept,2))\n",
    "plt.scatter(x_values,y_values)\n",
    "plt.plot(x_values,regress_values,\"r-\")\n",
    "\n",
    "ax.set_xlim(25.25,14.75)\n",
    "ax.set_ylim(0,50)\n",
    "\n",
    "plt.annotate(line_eq,(6,10),fontsize = 15, color = \"red\")\n",
    "\n",
    "plt.xlabel('Mouse Weight')\n",
    "plt.ylabel('Tumor Size (mm^3)')\n",
    "#plt.title(f\"Capomulin Regimen on {mouse_id}: \\nMouse Weight vs Tumor Size\")\n",
    "plt.ylim(0,46)\n",
    "\n",
    "print(f\"The r-squared is: {rvalue}\")\n",
    "plt.show()"
   ]
  },
  {
   "cell_type": "code",
   "execution_count": null,
   "metadata": {},
   "outputs": [],
   "source": []
  },
  {
   "cell_type": "markdown",
   "metadata": {},
   "source": [
    "### Extra studies"
   ]
  },
  {
   "cell_type": "markdown",
   "metadata": {},
   "source": [
    "#### Deaths"
   ]
  },
  {
   "cell_type": "code",
   "execution_count": 20,
   "metadata": {},
   "outputs": [
    {
     "data": {
      "text/html": [
       "<div>\n",
       "<style scoped>\n",
       "    .dataframe tbody tr th:only-of-type {\n",
       "        vertical-align: middle;\n",
       "    }\n",
       "\n",
       "    .dataframe tbody tr th {\n",
       "        vertical-align: top;\n",
       "    }\n",
       "\n",
       "    .dataframe thead th {\n",
       "        text-align: right;\n",
       "    }\n",
       "</style>\n",
       "<table border=\"1\" class=\"dataframe\">\n",
       "  <thead>\n",
       "    <tr style=\"text-align: right;\">\n",
       "      <th></th>\n",
       "      <th>index</th>\n",
       "      <th>Mouse ID</th>\n",
       "    </tr>\n",
       "  </thead>\n",
       "  <tbody>\n",
       "    <tr>\n",
       "      <th>104</th>\n",
       "      <td>c326</td>\n",
       "      <td>2</td>\n",
       "    </tr>\n",
       "  </tbody>\n",
       "</table>\n",
       "</div>"
      ],
      "text/plain": [
       "    index  Mouse ID\n",
       "104  c326         2"
      ]
     },
     "execution_count": 20,
     "metadata": {},
     "output_type": "execute_result"
    }
   ],
   "source": [
    "a[a['index']=='c326']"
   ]
  },
  {
   "cell_type": "code",
   "execution_count": 21,
   "metadata": {},
   "outputs": [
    {
     "data": {
      "text/plain": [
       "{'whiskers': [<matplotlib.lines.Line2D at 0x1a2e8de5940>,\n",
       "  <matplotlib.lines.Line2D at 0x1a2e8de5cc0>],\n",
       " 'caps': [<matplotlib.lines.Line2D at 0x1a2e8e00b00>,\n",
       "  <matplotlib.lines.Line2D at 0x1a2e8e00668>],\n",
       " 'boxes': [<matplotlib.lines.Line2D at 0x1a2e8de52e8>],\n",
       " 'medians': [<matplotlib.lines.Line2D at 0x1a2e8e002b0>],\n",
       " 'fliers': [<matplotlib.lines.Line2D at 0x1a2e8e00550>],\n",
       " 'means': []}"
      ]
     },
     "execution_count": 21,
     "metadata": {},
     "output_type": "execute_result"
    },
    {
     "data": {
      "image/png": "[encoded data removed]",
      "text/plain": [
       "<Figure size 640x480 with 1 Axes>"
      ]
     },
     "metadata": {},
     "output_type": "display_data"
    }
   ],
   "source": [
    "# Finding the number of deaths in each drug regimen\n",
    "a =complete_df['Mouse ID'].value_counts()\n",
    "a = pd.DataFrame(a)\n",
    "\n",
    "#finding the Mice that didn't surive to the 10th test (i.e. <10)\n",
    "a=a[a['Mouse ID']<10]\n",
    "\n",
    "#Creating a DF of Mouse ID and Drug regimen\n",
    "b = complete_df[['Mouse ID', 'Drug Regimen']].drop_duplicates()\n",
    "b = b.reset_index()\n",
    "a =a.reset_index()\n",
    "\n",
    "#attaching drug regimen back to the Mouse IDs that failed to reach 10\n",
    "c =a.merge(b,left_on='index', right_on = 'Mouse ID')\n",
    "d =c.groupby('Drug Regimen').count()\n",
    "d=d.sort_values('index_x')['index_x']\n",
    "d\n",
    "plt.boxplot(d)"
   ]
  },
  {
   "cell_type": "markdown",
   "metadata": {},
   "source": [
    "#### Metastatic sites"
   ]
  },
  {
   "cell_type": "code",
   "execution_count": 22,
   "metadata": {},
   "outputs": [
    {
     "data": {
      "text/html": [
       "<div>\n",
       "<style scoped>\n",
       "    .dataframe tbody tr th:only-of-type {\n",
       "        vertical-align: middle;\n",
       "    }\n",
       "\n",
       "    .dataframe tbody tr th {\n",
       "        vertical-align: top;\n",
       "    }\n",
       "\n",
       "    .dataframe thead th {\n",
       "        text-align: right;\n",
       "    }\n",
       "</style>\n",
       "<table border=\"1\" class=\"dataframe\">\n",
       "  <thead>\n",
       "    <tr style=\"text-align: right;\">\n",
       "      <th></th>\n",
       "      <th>Metastatic Sites</th>\n",
       "    </tr>\n",
       "    <tr>\n",
       "      <th>Drug Regimen</th>\n",
       "      <th></th>\n",
       "    </tr>\n",
       "  </thead>\n",
       "  <tbody>\n",
       "    <tr>\n",
       "      <th>Ramicane</th>\n",
       "      <td>1.250000</td>\n",
       "    </tr>\n",
       "    <tr>\n",
       "      <th>Capomulin</th>\n",
       "      <td>1.476190</td>\n",
       "    </tr>\n",
       "    <tr>\n",
       "      <th>Stelasyn</th>\n",
       "      <td>1.727273</td>\n",
       "    </tr>\n",
       "    <tr>\n",
       "      <th>Infubinol</th>\n",
       "      <td>2.111111</td>\n",
       "    </tr>\n",
       "    <tr>\n",
       "      <th>Naftisol</th>\n",
       "      <td>2.538462</td>\n",
       "    </tr>\n",
       "    <tr>\n",
       "      <th>Propriva</th>\n",
       "      <td>2.571429</td>\n",
       "    </tr>\n",
       "    <tr>\n",
       "      <th>Ceftamin</th>\n",
       "      <td>2.692308</td>\n",
       "    </tr>\n",
       "    <tr>\n",
       "      <th>Zoniferol</th>\n",
       "      <td>3.071429</td>\n",
       "    </tr>\n",
       "    <tr>\n",
       "      <th>Placebo</th>\n",
       "      <td>3.272727</td>\n",
       "    </tr>\n",
       "    <tr>\n",
       "      <th>Ketapril</th>\n",
       "      <td>3.363636</td>\n",
       "    </tr>\n",
       "  </tbody>\n",
       "</table>\n",
       "</div>"
      ],
      "text/plain": [
       "              Metastatic Sites\n",
       "Drug Regimen                  \n",
       "Ramicane              1.250000\n",
       "Capomulin             1.476190\n",
       "Stelasyn              1.727273\n",
       "Infubinol             2.111111\n",
       "Naftisol              2.538462\n",
       "Propriva              2.571429\n",
       "Ceftamin              2.692308\n",
       "Zoniferol             3.071429\n",
       "Placebo               3.272727\n",
       "Ketapril              3.363636"
      ]
     },
     "execution_count": 22,
     "metadata": {},
     "output_type": "execute_result"
    }
   ],
   "source": [
    "# Finding the number of deaths in each drug regimen\n",
    "m =complete_df[complete_df['Timepoint']==45][['Drug Regimen','Metastatic Sites']]\n",
    "m =m.groupby('Drug Regimen').mean()\n",
    "#a = pd.DataFrame(a)\n",
    "\n",
    "#finding the Mice that didn't surive to the 10th test (i.e. <10)\n",
    "#a=a[a['Mouse ID']<10]\n",
    "\n",
    "#Creating a DF of Mouse ID and Drug regimen\n",
    "#b = complete_df[['Mouse ID', 'Drug Regimen']].drop_duplicates()\n",
    "#b = b.reset_index()\n",
    "#a =a.reset_index()\n",
    "\n",
    "#attaching drug regimen back to the Mouse IDs that failed to reach 10\n",
    "#c =a.merge(b,left_on='index', right_on = 'Mouse ID')\n",
    "#d =c.groupby('Drug Regimen').count()\n",
    "#d=d.sort_values('index_x')['index_x']\n",
    "#d\n",
    "m.sort_values('Metastatic Sites')\n"
   ]
  },
  {
   "cell_type": "code",
   "execution_count": 23,
   "metadata": {},
   "outputs": [
    {
     "data": {
      "image/png": "[encoded data removed]",
      "text/plain": [
       "<Figure size 640x480 with 1 Axes>"
      ]
     },
     "metadata": {},
     "output_type": "display_data"
    }
   ],
   "source": [
    "plt.boxplot(m['Metastatic Sites'])\n",
    "plt.show()"
   ]
  },
  {
   "cell_type": "code",
   "execution_count": null,
   "metadata": {},
   "outputs": [],
   "source": []
  },
  {
   "cell_type": "code",
   "execution_count": null,
   "metadata": {},
   "outputs": [],
   "source": []
  }
 ],
 "metadata": {
  "anaconda-cloud": {},
  "kernelspec": {
   "display_name": "Python 3",
   "language": "python",
   "name": "python3"
  },
  "language_info": {
   "codemirror_mode": {
    "name": "ipython",
    "version": 3
   },
   "file_extension": ".py",
   "mimetype": "text/x-python",
   "name": "python",
   "nbconvert_exporter": "python",
   "pygments_lexer": "ipython3",
   "version": "3.7.1"
  }
 },
 "nbformat": 4,
 "nbformat_minor": 2
}
